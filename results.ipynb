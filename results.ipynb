{
 "cells": [
  {
   "cell_type": "markdown",
   "id": "e16ab66b-1380-4802-8e42-c716ce4d8f85",
   "metadata": {},
   "source": [
    "# Students' Knowledge Status\n",
    "\n",
    "\n",
    "**Abstract:** \\\n",
    "It is the real dataset about the students' knowledge status about the subject of Electrical DC Machines. The dataset had been obtained from Ph.D. Thesis.\n",
    "\n",
    "**Data Set Information:** \\\n",
    "The users' knowledge class were classified by the authors\n",
    "using intuitive knowledge classifier (a hybrid ML technique of k-NN and meta-heuristic exploring methods), k-nearest neighbor algorithm.\n",
    "See article for more details on how the users' data was collected and evaluated by the user modeling server.\n",
    "\n",
    "\n",
    "H. T. Kahraman, Sagiroglu, S., Colak, I., Developing intuitive knowledge classifier and modeling of users' domain dependent data in web,\n",
    "Knowledge Based Systems, vol. 37, pp. 283-295, 2013. \n",
    "\n",
    "\n",
    "    \n",
    "| Attribute Information:                                                      |\n",
    "|-----------------------------------------------------------------------------|\n",
    "| STG (The degree of study time for goal object materails),                   |\n",
    "| SCG (The degree of repetition number of user for goal object materails)     |\n",
    "| STR (The degree of study time of user for related objects with goal object) |\n",
    "| LPR (The exam performance of user for related objects with goal object)     |\n",
    "| PEG (The exam performance of user for goal objects)                         |\n",
    "| UNS (The knowledge level of user)                                           |\n",
    "\n",
    "| Data Set Characteristics: Multivariate |\n",
    "|----------------------------------------|\n",
    "| Number of Instances: 403               |\n",
    "| Area: Education                        |\n",
    "| Attribute Characteristics: Real        |\n",
    "| Number of Attributes: 5                |\n",
    "| Associated Tasks: Classification       |\n",
    "|                                        |\n",
    "| Class Distribution                     |\n",
    "| Very Low: 50                           |\n",
    "| Low:129                                |\n",
    "| Middle: 122                            |\n",
    "| high 130                               |\n",
    "| Total:403                              |\n",
    "\n",
    "\n",
    "\n",
    ". T. Kahraman, Sagiroglu, S., Colak, I., Developing intuitive knowledge classifier and modeling of users' domain dependent data in web,\n",
    "Knowledge Based Systems, vol. 37, pp. 283-295, 2013.\n",
    "\n",
    "---"
   ]
  },
  {
   "cell_type": "markdown",
   "id": "3d476cc3-6947-42a6-82be-8ae4a88c20cc",
   "metadata": {},
   "source": [
    "**Mean, variance and standard diviation of the dataset :**\n",
    "\n",
    "\n",
    "|                  | **STG**   | **SCG**   | **STR**   | **LPR**   | **PEG**   |\n",
    "|------------------|-----------|-----------|-----------|-----------|-----------|\n",
    "| **Mean**         | **0.37**  | **0.35**  | **0.46**  | **0.43**  | **0.45**  |\n",
    "| **Standard div** | **0.21**  | **0.21**  | **0.24**  | **0.24**  | **0.25**  |\n",
    "| **Variance**     | **0.044** | **0.044** | **0.057** | **0.057** | **0.062** |"
   ]
  },
  {
   "cell_type": "markdown",
   "id": "de81f850-471d-4a9b-81b5-77193fe05a9d",
   "metadata": {},
   "source": [
    "**For each one of 50 sample :**\n",
    "\n",
    "Mean :\n",
    "\n",
    "\\[0.39 0.45 0.27 0.36 0.55 0.33 0.26 0.32 0.39 0.43 0.47 0.37 0.42 0.45\n",
    "\n",
    "0.4 0.36 0.28 0.39 0.34 0.44 0.4 0.34 0.25 0.34 0.43 0.28 0.41 0.43\n",
    "\n",
    "0.33 0.39 0.45 0.24 0.41 0.3 0.43 0.33 0.29 0.26 0.36 0.34 0.43 0.41\n",
    "\n",
    "0.34 0.25 0.37 0.35 0.39 0.4 0.35 0.37\\]\n",
    "\n",
    "Variance :\n",
    "\n",
    "\\[0.03 0.01 0.02 0.02 0.03 0.09 0.03 0.05 0.09 0.05 0.07 0.07 0.04 0.02\n",
    "\n",
    "0.04 0.04 0.02 0.04 0.02 0.06 0.06 0.01 0.03 0.06 0.05 0.03 0.06 0.04\n",
    "\n",
    "0.02 0.02 0.02 0.04 0.04 0.05 0.07 0.02 0.05 0.05 0.05 0.02 0.08 0.04\n",
    "\n",
    "0.06 0.01 0.09 0.06 0.03 0.09 0.01 0.02\\]"
   ]
  },
  {
   "cell_type": "markdown",
   "id": "167725d9-d599-49f3-9fa0-434acc310609",
   "metadata": {},
   "source": [
    "**Covariance matrix :**\n",
    "\n",
    "|         | **STG**      | **SCG**      | **STR**      | **LPR**       | **PEG**       |\n",
    "|---------|--------------|--------------|--------------|---------------|---------------|\n",
    "| **STG** | **0.044214** | **0.003612** | **0.002112** | **0.005193**  | **0.011074**  |\n",
    "| **SCG** | **0.003612** | **0.044928** | **0.004365** | **0.005144**  | **0.009888**  |\n",
    "| **STR** | **0.002112** | **0.004365** | **0.060486** | **0.002226**  | **0.007581**  |\n",
    "| **LPR** | **0.005193** | **0.005144** | **0.002226** | **0.061558**  | **-0.017069** |\n",
    "| **PEG** | **0.011074** | **0.009888** | **0.007581** | **-0.017069** | **0.065133**  |\n",
    "\n",
    "<img src=\"stats/image1.png\" style=\"width:7.98113in;height:7.30931in\" alt=\"D:\\study\\data science 1\\project\\study\\scattrer.png\" />"
   ]
  },
  {
   "cell_type": "markdown",
   "id": "9169eb98-be2b-4134-890e-5671c96dcfe2",
   "metadata": {},
   "source": [
    "**Mean and samples mean for STG**\n",
    "\n",
    "<img src=\"stats/image2.png\" style=\"width:5.08449in;height:3.69529in\" />\n",
    "\n",
    "**The red line is the dataset mean.**\n",
    "\n",
    "**The green line is the mean of samples mean.**"
   ]
  },
  {
   "cell_type": "markdown",
   "id": "e72d9ab4-45ce-4664-88dc-6139233b5971",
   "metadata": {},
   "source": [
    "**This plot shows the difference between the mean of the samples mean\n",
    "and the dataset mean for STG.**\n",
    "\n",
    "**The maen of the sample means of STG is : 0.3501**\n",
    "\n",
    "**The mean of the dataset mean of STG is : 0.3711**\n",
    "\n",
    "**Mean of samples means at different sample sizes (5 is green , 15 is\n",
    "black , 25 is blue) compared to real dataset mean of STG (red)**\n",
    "\n",
    "<img src=\"stats/image3.png\" style=\"width:3.65625in;height:2.65728in\" /><img src=\"stats/image4.png\" style=\"width:3.71026in;height:2.69653in\" /><img src=\"stats/image5.png\" style=\"width:3.67708in;height:2.62931in\" /><img src=\"stats/image6.png\" style=\"width:3.82292in;height:2.69519in\" />\n",
    "\n",
    "**Sample Means at sample size of 5 - variance : 0.0078**\n",
    "\n",
    "**Sample Means at sample size of 15 - variance : 0.0025**\n",
    "\n",
    "**Sample Means at sample size of 25 - variance : 0.0011**"
   ]
  },
  {
   "cell_type": "markdown",
   "id": "a41d1671-6dcd-4905-a53c-c7df8af8519c",
   "metadata": {},
   "source": [
    "**Mean and samples mean for PEG**\n",
    "\n",
    "<img src=\"stats/image7.png\" style=\"width:5.08449in;height:3.69529in\" />\n",
    "\n",
    "**The red line is the dataset mean.**\n",
    "\n",
    "**The green line is the mean of samples mean.**"
   ]
  },
  {
   "cell_type": "markdown",
   "id": "fe172852-7efc-4721-b212-2e537dcfa402",
   "metadata": {},
   "source": [
    "**This plot shows the difference between the mean of the samples mean\n",
    "and the dataset mean for PEG.**\n",
    "\n",
    "**The maen of the sample means of PEG is : 0.4553**\n",
    "\n",
    "**The mean of the dataset mean of PEG is : 0.4520**\n",
    "\n",
    "**Mean of samples means at different sample sizes (5 is green , 15 is\n",
    "black , 25 is blue) compared to real dataset mean of PEG (red)**\n",
    "\n",
    "<img src=\"stats/image8.png\" style=\"width:3.77083in;height:2.67478in\" /><img src=\"stats/image9.png\" style=\"width:3.72917in;height:2.71027in\" />\n",
    "\n",
    "<img src=\"stats/image10.png\" style=\"width:3.75in;height:2.72541in\" /><img src=\"stats/image11.png\" style=\"width:3.73181in;height:2.56944in\" />\n",
    "\n",
    "**Sample Means at sample size of 5 - variance : 0.0114**\n",
    "\n",
    "**Sample Means at sample size of 15 - variance : 0.0045**\n",
    "\n",
    "**Sample Means at sample size of 25 - variance :** **0.0027**"
   ]
  },
  {
   "cell_type": "markdown",
   "id": "3c021122-3edd-4118-9fe0-9e3b601bbec0",
   "metadata": {},
   "source": [
    "**So we notice that the variance of samples means decreases as the size\n",
    "of the sample increases because the more observations the sample\n",
    "contains the more it gets closer to the full dataset and the spread of\n",
    "means becomes tight so the variance gets lower.**\n",
    "\n",
    "**The PEG attribute tends to have the highest Covariance over all the\n",
    "other attributes.**\n",
    "\n",
    "**The PEG has high covariance with all other attributes compared to the\n",
    "covariance of all the attributes compared to each other.**\n",
    "\n",
    "**We could say that PEG has the greatest impact for the data to\n",
    "determine the UNS level.**\n",
    "\n",
    "**We could obviously say that exam performance has the highest impact to\n",
    "the knowledge of the user and other attributes**"
   ]
  },
  {
   "cell_type": "markdown",
   "id": "a5c6dfde-3e2b-47b3-b0cb-326c775e83a4",
   "metadata": {},
   "source": [
    "1 – Rug Plots\n",
    "\n",
    "<img src=\"plots/image1.png\" style=\"width:3.19792in;height:2.26839in\" /><img src=\"plots/image2.png\" style=\"width:3.20833in;height:2.27578in\" /><img src=\"plots/image3.png\" style=\"width:3.21605in;height:2.28125in\" /><img src=\"plots/image4.png\" style=\"width:3.21597in;height:2.2812in\" /><img src=\"plots/image5.png\" style=\"width:3.23958in;height:2.29795in\" /><img src=\"plots/image6.png\" style=\"width:3.26042in;height:2.31272in\" />"
   ]
  },
  {
   "cell_type": "markdown",
   "id": "b949fb64-41f6-43d1-b262-3263202c227e",
   "metadata": {},
   "source": [
    "2 – Scatter Plots\n",
    "\n",
    "<img src=\"plots/image7.png\" style=\"width:3.16652in;height:2.16528in\" /><img src=\"plots/image8.png\" style=\"width:3.20833in;height:2.19387in\" />\n",
    "\n",
    "<img src=\"plots/image9.png\" style=\"width:3.18378in;height:2.17708in\" /><img src=\"plots/image10.png\" style=\"width:3.16795in;height:2.16626in\" />\n",
    "\n",
    "<img src=\"plots/image11.png\" style=\"width:3.15331in;height:2.15625in\" /><img src=\"plots/image12.png\" style=\"width:3.16667in;height:2.16538in\" />\n",
    "\n",
    "<img src=\"plots/image13.png\" style=\"width:3.22917in;height:2.20812in\" /><img src=\"plots/image14.png\" style=\"width:3.23958in;height:2.19829in\" />\n",
    "\n",
    "<img src=\"plots/image15.png\" style=\"width:3.26871in;height:2.21806in\" /><img src=\"plots/image16.png\" style=\"width:3.22846in;height:2.20764in\" />\n",
    "\n",
    "<img src=\"plots/image17.png\" style=\"width:7.36046in;height:6.75023in\" />"
   ]
  },
  {
   "cell_type": "markdown",
   "id": "5724eb31-f991-437b-ba5f-4390c377f5bc",
   "metadata": {},
   "source": [
    "3 – Histograms\n",
    "\n",
    "<img src=\"plots/image18.png\" style=\"width:5.20952in;height:3.69529in\" />\n",
    "\n",
    "<img src=\"plots/image19.png\" style=\"width:5.20952in;height:3.69529in\" /><img src=\"plots/image20.png\" style=\"width:5.20952in;height:3.69529in\" />\n",
    "\n",
    "<img src=\"plots/image21.png\" style=\"width:5.20952in;height:3.69529in\" />\n",
    "\n",
    "<img src=\"plots/image22.png\" style=\"width:5.20952in;height:3.69529in\" />\n",
    "\n",
    "<img src=\"plots/image23.png\" style=\"width:5.36233in;height:3.5008in\" />"
   ]
  },
  {
   "cell_type": "markdown",
   "id": "fe8ecc05-9f99-4603-8f61-a9c099705d29",
   "metadata": {},
   "source": [
    "4 – Box Plots\n",
    "\n",
    "<img src=\"plots/image24.png\" style=\"width:5.27898in;height:3.5008in\" />"
   ]
  },
  {
   "cell_type": "code",
   "execution_count": null,
   "id": "109d6c63-a9b5-43c0-ae63-40dd3856d31f",
   "metadata": {},
   "outputs": [],
   "source": []
  },
  {
   "cell_type": "code",
   "execution_count": null,
   "id": "da385430-3169-4d5d-9870-566146fcd646",
   "metadata": {},
   "outputs": [],
   "source": []
  }
 ],
 "metadata": {
  "kernelspec": {
   "display_name": "Python 3",
   "language": "python",
   "name": "python3"
  },
  "language_info": {
   "codemirror_mode": {
    "name": "ipython",
    "version": 3
   },
   "file_extension": ".py",
   "mimetype": "text/x-python",
   "name": "python",
   "nbconvert_exporter": "python",
   "pygments_lexer": "ipython3",
   "version": "3.8.8"
  }
 },
 "nbformat": 4,
 "nbformat_minor": 5
}
